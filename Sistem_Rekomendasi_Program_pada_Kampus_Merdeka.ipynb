{
  "nbformat": 4,
  "nbformat_minor": 0,
  "metadata": {
    "colab": {
      "provenance": []
    },
    "kernelspec": {
      "name": "python3",
      "display_name": "Python 3"
    },
    "language_info": {
      "name": "python"
    }
  },
  "cells": [
    {
      "cell_type": "markdown",
      "source": [
        "\n",
        "# 1.   Import Library"
      ],
      "metadata": {
        "id": "Vm7sOrp1OtXs"
      }
    },
    {
      "cell_type": "code",
      "execution_count": 1,
      "metadata": {
        "colab": {
          "base_uri": "https://localhost:8080/",
          "height": 1000
        },
        "id": "2tNdsS6MMO9z",
        "outputId": "8e8ba6f5-28a7-41f3-8f90-ac7f4f243d2e"
      },
      "outputs": [
        {
          "output_type": "execute_result",
          "data": {
            "text/plain": [
              "                               mitra_name  \\\n",
              "0                      Farid Asroful Anam   \n",
              "1   StartupCampus-Achmad Zaky Foundation    \n",
              "2                                GreatEdu   \n",
              "3       Ruangguru-PT Ruang Raya Indonesia   \n",
              "4                 PT Ruang Raya Indonesia   \n",
              "5          PT Mitra Integrasi Informatika   \n",
              "6       PT Hacktivate Teknologi Indonesia   \n",
              "7       PT Hacktivate Teknologi Indonesia   \n",
              "8            PT BISA ARTIFISIAL INDONESIA   \n",
              "9       PT Hacktivate Teknologi Indonesia   \n",
              "10                PT Ruang Raya Indonesia   \n",
              "11           PT Baracipta Esa Engineering   \n",
              "12               PT Home Credit Indonesia   \n",
              "13                   PT Mafela Ranca Wana   \n",
              "14                 PT Indonesia Indicator   \n",
              "15      PT Telkom Indonesia (Persero) Tbk   \n",
              "16             PT Bhinneka Mentaridimensi   \n",
              "17            PT Pilihanmu Indonesia Jaya   \n",
              "18          PT Hashmicro Solusi Indonesia   \n",
              "19              PT TELEKOMUNIKASI SELULAR   \n",
              "20           PT Linimuda Inspirasi Negeri   \n",
              "\n",
              "                                              address  \\\n",
              "0    Pandana Merdeka Q9 RT03 RW03, Ngaliyan, Semarang   \n",
              "1   Jalan Attahiriyah II Kompleks Warga Indah Nomo...   \n",
              "2   8A, RT.12/RW.1, Pejaten Tim., Kec. Ps. Minggu,...   \n",
              "3   Jl. Dr. Saharjo No.161, Manggarai Selatan, Teb...   \n",
              "4   Jl. Dr. Saharjo No.161, Manggarai Selatan, Teb...   \n",
              "5   APL Tower Lantai 37, Jl. Letjen S. Parman Kav....   \n",
              "6   Gedung Aquarius Lt. 1&2, Jl. Sultan Iskandar M...   \n",
              "7   Gedung Aquarius Lt. 1&2, Jl. Sultan Iskandar M...   \n",
              "8                     JLN. IR H JUANDA NO. 84 BANDUNG   \n",
              "9   Gedung Aquarius Lt. 1&2, Jl. Sultan Iskandar M...   \n",
              "10  Jl. Dr. Saharjo No.161, Manggarai Selatan, Teb...   \n",
              "11  Jl. Mijil No. 98 Karangjati, Ngemplak, Kel. Si...   \n",
              "12  Plaza Oleos Lantai 8 Jl. TB Simatupang No. 53A...   \n",
              "13  Jl. Tan Malaka No. 138 Lt 3 , Kota Payakumbuh,...   \n",
              "14  Menara Sudirman Lt. 15 Lot A Jl. Jendral Sudir...   \n",
              "15                               Jl Japati 1, Bandung   \n",
              "16  Jl. Gn. Sahari No.73C, RT.9/RW.7, Gn. Sahari S...   \n",
              "17  Jalan Asem Baris Raya Blok A17, Kebon Baru, Te...   \n",
              "18  Neo Soho Podomoro City, Jalan Letjen S. Parman...   \n",
              "19  The Telkom Hub, Jl. Gatot Subroto No.Kav. 52, ...   \n",
              "20  Griya Dros, Jl KH Abdullah Syafei No 1 (Tebet ...   \n",
              "\n",
              "                                   course_skill           program  \\\n",
              "0                                   Mata Kuliah            Kuliah   \n",
              "1                                  data science  Studi Independen   \n",
              "2                                data analytics  Studi Independen   \n",
              "3                          Frontend Engineering  Studi Independen   \n",
              "4                           Backend Engineering  Studi Independen   \n",
              "5                          Full Stack Developer  Studi Independen   \n",
              "6                                  UI/UX Design  Studi Independen   \n",
              "7                         Web Developer Program  Studi Independen   \n",
              "8   Teknologi Kecerdasan Artifisial (AI-HACKER)  Studi Independen   \n",
              "9                 Golang for BackEnd Programmer  Studi Independen   \n",
              "10                    Data Business & Analytics  Studi Independen   \n",
              "11                                    3D Artist            magang   \n",
              "12                            Android Developer            magang   \n",
              "13                                     Animator            magang   \n",
              "14                        Block Chain Developer            magang   \n",
              "15                             Business Analyst            magang   \n",
              "16                 Business Intelligence Intern            magang   \n",
              "17                              Content Creator            magang   \n",
              "18                               Content Writer            magang   \n",
              "19                        Data Analytics Intern            magang   \n",
              "20         Digital Marketing Internship Program            magang   \n",
              "\n",
              "                                          description  \n",
              "0   Programming Algorithm Programming Language Dig...  \n",
              "1   Pengenalan Data Science Proses Discovery Data ...  \n",
              "2   gathering & wrangling data mining & visualizin...  \n",
              "3   webdevelopment frontend backend ReactJS REST A...  \n",
              "4   Final Project Software Engineering: Implementi...  \n",
              "5   Introduction to Programming Front-End Programm...  \n",
              "6   Understand the definition and mindset of a UI/...  \n",
              "7   Understand Basic & Fundamentals to become a we...  \n",
              "8   Compulsory Learning 1 Compulsory Learning 2 Op...  \n",
              "9   Exploration of Various Applications of Functio...  \n",
              "10  Digital Product Analytics: understand the basi...  \n",
              "11  Understanding of the concept design and schema...  \n",
              "12  Programming Language Project Management Dynami...  \n",
              "13  Lipsing and Expression of Characters Introduct...  \n",
              "14             Architecture Blockchain Smart Contract  \n",
              "15  Risk Management Valuation & Business Performan...  \n",
              "16  Inter/Inter-Team Collaboration Ability Communi...  \n",
              "17  Communication Design Business Insight Digital ...  \n",
              "18  SEO Marketing Communication Editorial Brand Aw...  \n",
              "19  Data Mining Data and Statistical Analytic Soft...  \n",
              "20  Able to analyze various analytics on various s...  "
            ],
            "text/html": [
              "\n",
              "  <div id=\"df-646513a5-4428-4211-9d25-f6ca12f2c610\">\n",
              "    <div class=\"colab-df-container\">\n",
              "      <div>\n",
              "<style scoped>\n",
              "    .dataframe tbody tr th:only-of-type {\n",
              "        vertical-align: middle;\n",
              "    }\n",
              "\n",
              "    .dataframe tbody tr th {\n",
              "        vertical-align: top;\n",
              "    }\n",
              "\n",
              "    .dataframe thead th {\n",
              "        text-align: right;\n",
              "    }\n",
              "</style>\n",
              "<table border=\"1\" class=\"dataframe\">\n",
              "  <thead>\n",
              "    <tr style=\"text-align: right;\">\n",
              "      <th></th>\n",
              "      <th>mitra_name</th>\n",
              "      <th>address</th>\n",
              "      <th>course_skill</th>\n",
              "      <th>program</th>\n",
              "      <th>description</th>\n",
              "    </tr>\n",
              "  </thead>\n",
              "  <tbody>\n",
              "    <tr>\n",
              "      <th>0</th>\n",
              "      <td>Farid Asroful Anam</td>\n",
              "      <td>Pandana Merdeka Q9 RT03 RW03, Ngaliyan, Semarang</td>\n",
              "      <td>Mata Kuliah</td>\n",
              "      <td>Kuliah</td>\n",
              "      <td>Programming Algorithm Programming Language Dig...</td>\n",
              "    </tr>\n",
              "    <tr>\n",
              "      <th>1</th>\n",
              "      <td>StartupCampus-Achmad Zaky Foundation</td>\n",
              "      <td>Jalan Attahiriyah II Kompleks Warga Indah Nomo...</td>\n",
              "      <td>data science</td>\n",
              "      <td>Studi Independen</td>\n",
              "      <td>Pengenalan Data Science Proses Discovery Data ...</td>\n",
              "    </tr>\n",
              "    <tr>\n",
              "      <th>2</th>\n",
              "      <td>GreatEdu</td>\n",
              "      <td>8A, RT.12/RW.1, Pejaten Tim., Kec. Ps. Minggu,...</td>\n",
              "      <td>data analytics</td>\n",
              "      <td>Studi Independen</td>\n",
              "      <td>gathering &amp; wrangling data mining &amp; visualizin...</td>\n",
              "    </tr>\n",
              "    <tr>\n",
              "      <th>3</th>\n",
              "      <td>Ruangguru-PT Ruang Raya Indonesia</td>\n",
              "      <td>Jl. Dr. Saharjo No.161, Manggarai Selatan, Teb...</td>\n",
              "      <td>Frontend Engineering</td>\n",
              "      <td>Studi Independen</td>\n",
              "      <td>webdevelopment frontend backend ReactJS REST A...</td>\n",
              "    </tr>\n",
              "    <tr>\n",
              "      <th>4</th>\n",
              "      <td>PT Ruang Raya Indonesia</td>\n",
              "      <td>Jl. Dr. Saharjo No.161, Manggarai Selatan, Teb...</td>\n",
              "      <td>Backend Engineering</td>\n",
              "      <td>Studi Independen</td>\n",
              "      <td>Final Project Software Engineering: Implementi...</td>\n",
              "    </tr>\n",
              "    <tr>\n",
              "      <th>5</th>\n",
              "      <td>PT Mitra Integrasi Informatika</td>\n",
              "      <td>APL Tower Lantai 37, Jl. Letjen S. Parman Kav....</td>\n",
              "      <td>Full Stack Developer</td>\n",
              "      <td>Studi Independen</td>\n",
              "      <td>Introduction to Programming Front-End Programm...</td>\n",
              "    </tr>\n",
              "    <tr>\n",
              "      <th>6</th>\n",
              "      <td>PT Hacktivate Teknologi Indonesia</td>\n",
              "      <td>Gedung Aquarius Lt. 1&amp;2, Jl. Sultan Iskandar M...</td>\n",
              "      <td>UI/UX Design</td>\n",
              "      <td>Studi Independen</td>\n",
              "      <td>Understand the definition and mindset of a UI/...</td>\n",
              "    </tr>\n",
              "    <tr>\n",
              "      <th>7</th>\n",
              "      <td>PT Hacktivate Teknologi Indonesia</td>\n",
              "      <td>Gedung Aquarius Lt. 1&amp;2, Jl. Sultan Iskandar M...</td>\n",
              "      <td>Web Developer Program</td>\n",
              "      <td>Studi Independen</td>\n",
              "      <td>Understand Basic &amp; Fundamentals to become a we...</td>\n",
              "    </tr>\n",
              "    <tr>\n",
              "      <th>8</th>\n",
              "      <td>PT BISA ARTIFISIAL INDONESIA</td>\n",
              "      <td>JLN. IR H JUANDA NO. 84 BANDUNG</td>\n",
              "      <td>Teknologi Kecerdasan Artifisial (AI-HACKER)</td>\n",
              "      <td>Studi Independen</td>\n",
              "      <td>Compulsory Learning 1 Compulsory Learning 2 Op...</td>\n",
              "    </tr>\n",
              "    <tr>\n",
              "      <th>9</th>\n",
              "      <td>PT Hacktivate Teknologi Indonesia</td>\n",
              "      <td>Gedung Aquarius Lt. 1&amp;2, Jl. Sultan Iskandar M...</td>\n",
              "      <td>Golang for BackEnd Programmer</td>\n",
              "      <td>Studi Independen</td>\n",
              "      <td>Exploration of Various Applications of Functio...</td>\n",
              "    </tr>\n",
              "    <tr>\n",
              "      <th>10</th>\n",
              "      <td>PT Ruang Raya Indonesia</td>\n",
              "      <td>Jl. Dr. Saharjo No.161, Manggarai Selatan, Teb...</td>\n",
              "      <td>Data Business &amp; Analytics</td>\n",
              "      <td>Studi Independen</td>\n",
              "      <td>Digital Product Analytics: understand the basi...</td>\n",
              "    </tr>\n",
              "    <tr>\n",
              "      <th>11</th>\n",
              "      <td>PT Baracipta Esa Engineering</td>\n",
              "      <td>Jl. Mijil No. 98 Karangjati, Ngemplak, Kel. Si...</td>\n",
              "      <td>3D Artist</td>\n",
              "      <td>magang</td>\n",
              "      <td>Understanding of the concept design and schema...</td>\n",
              "    </tr>\n",
              "    <tr>\n",
              "      <th>12</th>\n",
              "      <td>PT Home Credit Indonesia</td>\n",
              "      <td>Plaza Oleos Lantai 8 Jl. TB Simatupang No. 53A...</td>\n",
              "      <td>Android Developer</td>\n",
              "      <td>magang</td>\n",
              "      <td>Programming Language Project Management Dynami...</td>\n",
              "    </tr>\n",
              "    <tr>\n",
              "      <th>13</th>\n",
              "      <td>PT Mafela Ranca Wana</td>\n",
              "      <td>Jl. Tan Malaka No. 138 Lt 3 , Kota Payakumbuh,...</td>\n",
              "      <td>Animator</td>\n",
              "      <td>magang</td>\n",
              "      <td>Lipsing and Expression of Characters Introduct...</td>\n",
              "    </tr>\n",
              "    <tr>\n",
              "      <th>14</th>\n",
              "      <td>PT Indonesia Indicator</td>\n",
              "      <td>Menara Sudirman Lt. 15 Lot A Jl. Jendral Sudir...</td>\n",
              "      <td>Block Chain Developer</td>\n",
              "      <td>magang</td>\n",
              "      <td>Architecture Blockchain Smart Contract</td>\n",
              "    </tr>\n",
              "    <tr>\n",
              "      <th>15</th>\n",
              "      <td>PT Telkom Indonesia (Persero) Tbk</td>\n",
              "      <td>Jl Japati 1, Bandung</td>\n",
              "      <td>Business Analyst</td>\n",
              "      <td>magang</td>\n",
              "      <td>Risk Management Valuation &amp; Business Performan...</td>\n",
              "    </tr>\n",
              "    <tr>\n",
              "      <th>16</th>\n",
              "      <td>PT Bhinneka Mentaridimensi</td>\n",
              "      <td>Jl. Gn. Sahari No.73C, RT.9/RW.7, Gn. Sahari S...</td>\n",
              "      <td>Business Intelligence Intern</td>\n",
              "      <td>magang</td>\n",
              "      <td>Inter/Inter-Team Collaboration Ability Communi...</td>\n",
              "    </tr>\n",
              "    <tr>\n",
              "      <th>17</th>\n",
              "      <td>PT Pilihanmu Indonesia Jaya</td>\n",
              "      <td>Jalan Asem Baris Raya Blok A17, Kebon Baru, Te...</td>\n",
              "      <td>Content Creator</td>\n",
              "      <td>magang</td>\n",
              "      <td>Communication Design Business Insight Digital ...</td>\n",
              "    </tr>\n",
              "    <tr>\n",
              "      <th>18</th>\n",
              "      <td>PT Hashmicro Solusi Indonesia</td>\n",
              "      <td>Neo Soho Podomoro City, Jalan Letjen S. Parman...</td>\n",
              "      <td>Content Writer</td>\n",
              "      <td>magang</td>\n",
              "      <td>SEO Marketing Communication Editorial Brand Aw...</td>\n",
              "    </tr>\n",
              "    <tr>\n",
              "      <th>19</th>\n",
              "      <td>PT TELEKOMUNIKASI SELULAR</td>\n",
              "      <td>The Telkom Hub, Jl. Gatot Subroto No.Kav. 52, ...</td>\n",
              "      <td>Data Analytics Intern</td>\n",
              "      <td>magang</td>\n",
              "      <td>Data Mining Data and Statistical Analytic Soft...</td>\n",
              "    </tr>\n",
              "    <tr>\n",
              "      <th>20</th>\n",
              "      <td>PT Linimuda Inspirasi Negeri</td>\n",
              "      <td>Griya Dros, Jl KH Abdullah Syafei No 1 (Tebet ...</td>\n",
              "      <td>Digital Marketing Internship Program</td>\n",
              "      <td>magang</td>\n",
              "      <td>Able to analyze various analytics on various s...</td>\n",
              "    </tr>\n",
              "  </tbody>\n",
              "</table>\n",
              "</div>\n",
              "      <button class=\"colab-df-convert\" onclick=\"convertToInteractive('df-646513a5-4428-4211-9d25-f6ca12f2c610')\"\n",
              "              title=\"Convert this dataframe to an interactive table.\"\n",
              "              style=\"display:none;\">\n",
              "        \n",
              "  <svg xmlns=\"http://www.w3.org/2000/svg\" height=\"24px\"viewBox=\"0 0 24 24\"\n",
              "       width=\"24px\">\n",
              "    <path d=\"M0 0h24v24H0V0z\" fill=\"none\"/>\n",
              "    <path d=\"M18.56 5.44l.94 2.06.94-2.06 2.06-.94-2.06-.94-.94-2.06-.94 2.06-2.06.94zm-11 1L8.5 8.5l.94-2.06 2.06-.94-2.06-.94L8.5 2.5l-.94 2.06-2.06.94zm10 10l.94 2.06.94-2.06 2.06-.94-2.06-.94-.94-2.06-.94 2.06-2.06.94z\"/><path d=\"M17.41 7.96l-1.37-1.37c-.4-.4-.92-.59-1.43-.59-.52 0-1.04.2-1.43.59L10.3 9.45l-7.72 7.72c-.78.78-.78 2.05 0 2.83L4 21.41c.39.39.9.59 1.41.59.51 0 1.02-.2 1.41-.59l7.78-7.78 2.81-2.81c.8-.78.8-2.07 0-2.86zM5.41 20L4 18.59l7.72-7.72 1.47 1.35L5.41 20z\"/>\n",
              "  </svg>\n",
              "      </button>\n",
              "      \n",
              "  <style>\n",
              "    .colab-df-container {\n",
              "      display:flex;\n",
              "      flex-wrap:wrap;\n",
              "      gap: 12px;\n",
              "    }\n",
              "\n",
              "    .colab-df-convert {\n",
              "      background-color: #E8F0FE;\n",
              "      border: none;\n",
              "      border-radius: 50%;\n",
              "      cursor: pointer;\n",
              "      display: none;\n",
              "      fill: #1967D2;\n",
              "      height: 32px;\n",
              "      padding: 0 0 0 0;\n",
              "      width: 32px;\n",
              "    }\n",
              "\n",
              "    .colab-df-convert:hover {\n",
              "      background-color: #E2EBFA;\n",
              "      box-shadow: 0px 1px 2px rgba(60, 64, 67, 0.3), 0px 1px 3px 1px rgba(60, 64, 67, 0.15);\n",
              "      fill: #174EA6;\n",
              "    }\n",
              "\n",
              "    [theme=dark] .colab-df-convert {\n",
              "      background-color: #3B4455;\n",
              "      fill: #D2E3FC;\n",
              "    }\n",
              "\n",
              "    [theme=dark] .colab-df-convert:hover {\n",
              "      background-color: #434B5C;\n",
              "      box-shadow: 0px 1px 3px 1px rgba(0, 0, 0, 0.15);\n",
              "      filter: drop-shadow(0px 1px 2px rgba(0, 0, 0, 0.3));\n",
              "      fill: #FFFFFF;\n",
              "    }\n",
              "  </style>\n",
              "\n",
              "      <script>\n",
              "        const buttonEl =\n",
              "          document.querySelector('#df-646513a5-4428-4211-9d25-f6ca12f2c610 button.colab-df-convert');\n",
              "        buttonEl.style.display =\n",
              "          google.colab.kernel.accessAllowed ? 'block' : 'none';\n",
              "\n",
              "        async function convertToInteractive(key) {\n",
              "          const element = document.querySelector('#df-646513a5-4428-4211-9d25-f6ca12f2c610');\n",
              "          const dataTable =\n",
              "            await google.colab.kernel.invokeFunction('convertToInteractive',\n",
              "                                                     [key], {});\n",
              "          if (!dataTable) return;\n",
              "\n",
              "          const docLinkHtml = 'Like what you see? Visit the ' +\n",
              "            '<a target=\"_blank\" href=https://colab.research.google.com/notebooks/data_table.ipynb>data table notebook</a>'\n",
              "            + ' to learn more about interactive tables.';\n",
              "          element.innerHTML = '';\n",
              "          dataTable['output_type'] = 'display_data';\n",
              "          await google.colab.output.renderOutput(dataTable, element);\n",
              "          const docLink = document.createElement('div');\n",
              "          docLink.innerHTML = docLinkHtml;\n",
              "          element.appendChild(docLink);\n",
              "        }\n",
              "      </script>\n",
              "    </div>\n",
              "  </div>\n",
              "  "
            ]
          },
          "metadata": {},
          "execution_count": 1
        }
      ],
      "source": [
        "import pandas as pd\n",
        "import numpy as np\n",
        "from sklearn.metrics.pairwise import cosine_similarity\n",
        "from sklearn.feature_extraction.text import TfidfVectorizer\n",
        "from nltk.corpus import stopwords\n",
        "import re\n",
        "import random\n",
        "\n",
        "# untuk teman-teman yang ingin membuat rekomendasi berdasarkan namanya sendiri. Bisa diubah CSVnya dibagian baris pertama. Diganti Nama teman-teman, dan untuk deskripsinya diisi sesuai dengan yang teman-teman minati/sudah dipelajari\n",
        "df = pd.read_csv(\"CSV/dataset_farid_matkul.csv\")\n",
        "\n",
        "df"
      ]
    },
    {
      "cell_type": "markdown",
      "source": [
        "\n",
        "\n",
        "---\n",
        "\n"
      ],
      "metadata": {
        "id": "ZXhBAqgbOebe"
      }
    },
    {
      "cell_type": "markdown",
      "source": [
        "\n",
        "\n",
        "# 2.   Ikhtisar"
      ],
      "metadata": {
        "id": "bh09u7lJOiLL"
      }
    },
    {
      "cell_type": "code",
      "source": [
        "df.describe()"
      ],
      "metadata": {
        "colab": {
          "base_uri": "https://localhost:8080/",
          "height": 236
        },
        "id": "eMRdYv7hN2f7",
        "outputId": "9e4b3d0a-e287-4a5a-e06e-8cc7e41f5355"
      },
      "execution_count": 2,
      "outputs": [
        {
          "output_type": "execute_result",
          "data": {
            "text/plain": [
              "                               mitra_name  \\\n",
              "count                                  21   \n",
              "unique                                 18   \n",
              "top     PT Hacktivate Teknologi Indonesia   \n",
              "freq                                    3   \n",
              "\n",
              "                                                  address course_skill  \\\n",
              "count                                                  21           21   \n",
              "unique                                                 17           21   \n",
              "top     Jl. Dr. Saharjo No.161, Manggarai Selatan, Teb...  Mata Kuliah   \n",
              "freq                                                    3            1   \n",
              "\n",
              "                 program                                        description  \n",
              "count                 21                                                 21  \n",
              "unique                 3                                                 21  \n",
              "top     Studi Independen  Programming Algorithm Programming Language Dig...  \n",
              "freq                  10                                                  1  "
            ],
            "text/html": [
              "\n",
              "  <div id=\"df-fcd47de1-0030-4f72-9fdb-48cb5366e351\">\n",
              "    <div class=\"colab-df-container\">\n",
              "      <div>\n",
              "<style scoped>\n",
              "    .dataframe tbody tr th:only-of-type {\n",
              "        vertical-align: middle;\n",
              "    }\n",
              "\n",
              "    .dataframe tbody tr th {\n",
              "        vertical-align: top;\n",
              "    }\n",
              "\n",
              "    .dataframe thead th {\n",
              "        text-align: right;\n",
              "    }\n",
              "</style>\n",
              "<table border=\"1\" class=\"dataframe\">\n",
              "  <thead>\n",
              "    <tr style=\"text-align: right;\">\n",
              "      <th></th>\n",
              "      <th>mitra_name</th>\n",
              "      <th>address</th>\n",
              "      <th>course_skill</th>\n",
              "      <th>program</th>\n",
              "      <th>description</th>\n",
              "    </tr>\n",
              "  </thead>\n",
              "  <tbody>\n",
              "    <tr>\n",
              "      <th>count</th>\n",
              "      <td>21</td>\n",
              "      <td>21</td>\n",
              "      <td>21</td>\n",
              "      <td>21</td>\n",
              "      <td>21</td>\n",
              "    </tr>\n",
              "    <tr>\n",
              "      <th>unique</th>\n",
              "      <td>18</td>\n",
              "      <td>17</td>\n",
              "      <td>21</td>\n",
              "      <td>3</td>\n",
              "      <td>21</td>\n",
              "    </tr>\n",
              "    <tr>\n",
              "      <th>top</th>\n",
              "      <td>PT Hacktivate Teknologi Indonesia</td>\n",
              "      <td>Jl. Dr. Saharjo No.161, Manggarai Selatan, Teb...</td>\n",
              "      <td>Mata Kuliah</td>\n",
              "      <td>Studi Independen</td>\n",
              "      <td>Programming Algorithm Programming Language Dig...</td>\n",
              "    </tr>\n",
              "    <tr>\n",
              "      <th>freq</th>\n",
              "      <td>3</td>\n",
              "      <td>3</td>\n",
              "      <td>1</td>\n",
              "      <td>10</td>\n",
              "      <td>1</td>\n",
              "    </tr>\n",
              "  </tbody>\n",
              "</table>\n",
              "</div>\n",
              "      <button class=\"colab-df-convert\" onclick=\"convertToInteractive('df-fcd47de1-0030-4f72-9fdb-48cb5366e351')\"\n",
              "              title=\"Convert this dataframe to an interactive table.\"\n",
              "              style=\"display:none;\">\n",
              "        \n",
              "  <svg xmlns=\"http://www.w3.org/2000/svg\" height=\"24px\"viewBox=\"0 0 24 24\"\n",
              "       width=\"24px\">\n",
              "    <path d=\"M0 0h24v24H0V0z\" fill=\"none\"/>\n",
              "    <path d=\"M18.56 5.44l.94 2.06.94-2.06 2.06-.94-2.06-.94-.94-2.06-.94 2.06-2.06.94zm-11 1L8.5 8.5l.94-2.06 2.06-.94-2.06-.94L8.5 2.5l-.94 2.06-2.06.94zm10 10l.94 2.06.94-2.06 2.06-.94-2.06-.94-.94-2.06-.94 2.06-2.06.94z\"/><path d=\"M17.41 7.96l-1.37-1.37c-.4-.4-.92-.59-1.43-.59-.52 0-1.04.2-1.43.59L10.3 9.45l-7.72 7.72c-.78.78-.78 2.05 0 2.83L4 21.41c.39.39.9.59 1.41.59.51 0 1.02-.2 1.41-.59l7.78-7.78 2.81-2.81c.8-.78.8-2.07 0-2.86zM5.41 20L4 18.59l7.72-7.72 1.47 1.35L5.41 20z\"/>\n",
              "  </svg>\n",
              "      </button>\n",
              "      \n",
              "  <style>\n",
              "    .colab-df-container {\n",
              "      display:flex;\n",
              "      flex-wrap:wrap;\n",
              "      gap: 12px;\n",
              "    }\n",
              "\n",
              "    .colab-df-convert {\n",
              "      background-color: #E8F0FE;\n",
              "      border: none;\n",
              "      border-radius: 50%;\n",
              "      cursor: pointer;\n",
              "      display: none;\n",
              "      fill: #1967D2;\n",
              "      height: 32px;\n",
              "      padding: 0 0 0 0;\n",
              "      width: 32px;\n",
              "    }\n",
              "\n",
              "    .colab-df-convert:hover {\n",
              "      background-color: #E2EBFA;\n",
              "      box-shadow: 0px 1px 2px rgba(60, 64, 67, 0.3), 0px 1px 3px 1px rgba(60, 64, 67, 0.15);\n",
              "      fill: #174EA6;\n",
              "    }\n",
              "\n",
              "    [theme=dark] .colab-df-convert {\n",
              "      background-color: #3B4455;\n",
              "      fill: #D2E3FC;\n",
              "    }\n",
              "\n",
              "    [theme=dark] .colab-df-convert:hover {\n",
              "      background-color: #434B5C;\n",
              "      box-shadow: 0px 1px 3px 1px rgba(0, 0, 0, 0.15);\n",
              "      filter: drop-shadow(0px 1px 2px rgba(0, 0, 0, 0.3));\n",
              "      fill: #FFFFFF;\n",
              "    }\n",
              "  </style>\n",
              "\n",
              "      <script>\n",
              "        const buttonEl =\n",
              "          document.querySelector('#df-fcd47de1-0030-4f72-9fdb-48cb5366e351 button.colab-df-convert');\n",
              "        buttonEl.style.display =\n",
              "          google.colab.kernel.accessAllowed ? 'block' : 'none';\n",
              "\n",
              "        async function convertToInteractive(key) {\n",
              "          const element = document.querySelector('#df-fcd47de1-0030-4f72-9fdb-48cb5366e351');\n",
              "          const dataTable =\n",
              "            await google.colab.kernel.invokeFunction('convertToInteractive',\n",
              "                                                     [key], {});\n",
              "          if (!dataTable) return;\n",
              "\n",
              "          const docLinkHtml = 'Like what you see? Visit the ' +\n",
              "            '<a target=\"_blank\" href=https://colab.research.google.com/notebooks/data_table.ipynb>data table notebook</a>'\n",
              "            + ' to learn more about interactive tables.';\n",
              "          element.innerHTML = '';\n",
              "          dataTable['output_type'] = 'display_data';\n",
              "          await google.colab.output.renderOutput(dataTable, element);\n",
              "          const docLink = document.createElement('div');\n",
              "          docLink.innerHTML = docLinkHtml;\n",
              "          element.appendChild(docLink);\n",
              "        }\n",
              "      </script>\n",
              "    </div>\n",
              "  </div>\n",
              "  "
            ]
          },
          "metadata": {},
          "execution_count": 2
        }
      ]
    },
    {
      "cell_type": "code",
      "source": [
        "df.info()"
      ],
      "metadata": {
        "colab": {
          "base_uri": "https://localhost:8080/"
        },
        "id": "yWNgEe_0PrHz",
        "outputId": "c1b06753-09cb-44e4-bd19-3bb0734c0f3c"
      },
      "execution_count": 3,
      "outputs": [
        {
          "output_type": "stream",
          "name": "stdout",
          "text": [
            "<class 'pandas.core.frame.DataFrame'>\n",
            "RangeIndex: 21 entries, 0 to 20\n",
            "Data columns (total 5 columns):\n",
            " #   Column        Non-Null Count  Dtype \n",
            "---  ------        --------------  ----- \n",
            " 0   mitra_name    21 non-null     object\n",
            " 1   address       21 non-null     object\n",
            " 2   course_skill  21 non-null     object\n",
            " 3   program       21 non-null     object\n",
            " 4   description   21 non-null     object\n",
            "dtypes: object(5)\n",
            "memory usage: 968.0+ bytes\n"
          ]
        }
      ]
    },
    {
      "cell_type": "markdown",
      "source": [
        "\n",
        "\n",
        "---\n",
        "\n"
      ],
      "metadata": {
        "id": "pxwXcA2QdEK-"
      }
    },
    {
      "cell_type": "markdown",
      "source": [
        "\n",
        "# 3.   Deskripsi Modul & Kompetensi (Sebelum Preprocessing)"
      ],
      "metadata": {
        "id": "VbpG3MaqPuRm"
      }
    },
    {
      "cell_type": "code",
      "source": [
        "def print_description(index):\n",
        "    example = df[df.index == index][['description', 'mitra_name', 'address', 'program', 'course_skill']].values[0]\n",
        "    if len(example) > 0:\n",
        "        print(example[0], '\\n')\n",
        "        print('Nama Perusahaan\\t\\t:', example[1])\n",
        "        print('Alamat Perusahaan\\t:', example[2])\n",
        "        print('Program Kampus Merdeka\\t:', example[3])\n",
        "        print('Kursus/Program Magang\\t:', example[4])\n",
        "        print()"
      ],
      "metadata": {
        "id": "EOazvhhbPsxC"
      },
      "execution_count": 13,
      "outputs": []
    },
    {
      "cell_type": "code",
      "source": [
        "print_description(1)"
      ],
      "metadata": {
        "colab": {
          "base_uri": "https://localhost:8080/"
        },
        "id": "aiFoN94cQssY",
        "outputId": "9011fd08-f8a3-404a-9f71-d507f794fa37"
      },
      "execution_count": 14,
      "outputs": [
        {
          "output_type": "stream",
          "name": "stdout",
          "text": [
            "Pengenalan Data Science Proses Discovery Data Pengimporan dasar data dengan Python Data Science (SQL)Visualisasi Data Machine Learning Classification Unsupervised Learning supervised Learning Hyperparameter Tuning Gradient Boosting statistics Clustering scikit-learn tensorflow \n",
            "\n",
            "Nama Perusahaan\t\t: StartupCampus-Achmad Zaky Foundation \n",
            "Alamat Perusahaan\t: Jalan Attahiriyah II Kompleks Warga Indah Nomor 9c, Pejaten Barat, Jakarta Selatan, 12510\n",
            "Program Kampus Merdeka\t: Studi Independen\n",
            "Kursus/Program Magang\t: data science\n",
            "\n"
          ]
        }
      ]
    },
    {
      "cell_type": "code",
      "source": [
        "print_description(15)"
      ],
      "metadata": {
        "colab": {
          "base_uri": "https://localhost:8080/"
        },
        "id": "Z4pRSF-JQtIM",
        "outputId": "efb078a0-9499-4f89-cd6f-20fe0f8496d7"
      },
      "execution_count": 15,
      "outputs": [
        {
          "output_type": "stream",
          "name": "stdout",
          "text": [
            "Risk Management Valuation & Business Performance  Business Process Management Business/ Industry Understanding Business Strategy & Plan Value - Harmonis\t Job Performance Value - Kompeten\t Value - Amanah\t Value - Adaptif\t Value - Loyal\t Value - Kolaboratif \n",
            "\n",
            "Nama Perusahaan\t\t: PT Telkom Indonesia (Persero) Tbk\n",
            "Alamat Perusahaan\t: Jl Japati 1, Bandung\n",
            "Program Kampus Merdeka\t: magang\n",
            "Kursus/Program Magang\t: Business Analyst\n",
            "\n"
          ]
        }
      ]
    },
    {
      "cell_type": "code",
      "source": [
        "print_description(20)"
      ],
      "metadata": {
        "colab": {
          "base_uri": "https://localhost:8080/"
        },
        "id": "rXg4axMzRKgt",
        "outputId": "fd9e3997-67e7-473a-bf67-d59d3c4e36da"
      },
      "execution_count": 16,
      "outputs": [
        {
          "output_type": "stream",
          "name": "stdout",
          "text": [
            "Able to analyze various analytics on various social media channels to get evaluations and insights Know the platforms/technological devices for digital marketing and understand how to use them Able to identify markets, know the target market, and conduct market research Able to use digital marketing platforms such as Facebook Ads and use them optimally.Understand and be able to operate various features or keyword search tools for content writing \n",
            "\n",
            "Nama Perusahaan\t\t: PT Linimuda Inspirasi Negeri\n",
            "Alamat Perusahaan\t: Griya Dros, Jl KH Abdullah Syafei No 1 (Tebet Utara Dalam 34), Kel. Tebet Timur, Kec. Tebet, Kota Adm. Jakarta Selatan, Prov. DKI Jakarta\n",
            "Program Kampus Merdeka\t: magang\n",
            "Kursus/Program Magang\t: Digital Marketing Internship Program\n",
            "\n"
          ]
        }
      ]
    },
    {
      "cell_type": "markdown",
      "source": [
        "\n",
        "\n",
        "---\n",
        "\n",
        "\n"
      ],
      "metadata": {
        "id": "7im7DSaVdIX3"
      }
    },
    {
      "cell_type": "markdown",
      "source": [
        "\n",
        "# 4.   Text Preprocessing"
      ],
      "metadata": {
        "id": "EbQT-r1fRUID"
      }
    },
    {
      "cell_type": "code",
      "source": [
        "import nltk\n",
        "nltk.download('stopwords')\n",
        "clean_spcl = re.compile('[/(){}\\[\\]\\|@,;]')\n",
        "clean_symbol = re.compile('[^0-9a-z #+_]')\n",
        "stopworda = set(stopwords.words('english'))\n",
        "\n",
        "def clean_text(text):\n",
        "    \"\"\"\n",
        "        text: a string\n",
        "        \n",
        "        return: modified initial string\n",
        "    \"\"\"\n",
        "    text = text.lower() # lowercase text\n",
        "    text = clean_spcl.sub(' ', text)\n",
        "    text = clean_symbol.sub('', text)\n",
        "    text = ' '.join(word for word in text.split() if word not in stopworda) # hapus stopword dari kolom deskripsi\n",
        "    return text\n",
        "    \n",
        "df['desc_clean'] = df['description'].apply(clean_text)"
      ],
      "metadata": {
        "colab": {
          "base_uri": "https://localhost:8080/"
        },
        "id": "O-t4qhy6RLor",
        "outputId": "aea184c1-1716-49bc-becf-f6221fac3d14"
      },
      "execution_count": 19,
      "outputs": [
        {
          "output_type": "stream",
          "name": "stderr",
          "text": [
            "[nltk_data] Downloading package stopwords to /root/nltk_data...\n",
            "[nltk_data]   Package stopwords is already up-to-date!\n"
          ]
        }
      ]
    },
    {
      "cell_type": "code",
      "source": [
        "df.head()"
      ],
      "metadata": {
        "colab": {
          "base_uri": "https://localhost:8080/",
          "height": 337
        },
        "id": "yZ_WOd3eS0oo",
        "outputId": "e7db54ec-e2f9-4438-f5c1-919e51a44290"
      },
      "execution_count": 20,
      "outputs": [
        {
          "output_type": "execute_result",
          "data": {
            "text/plain": [
              "                              mitra_name  \\\n",
              "0                     Farid Asroful Anam   \n",
              "1  StartupCampus-Achmad Zaky Foundation    \n",
              "2                               GreatEdu   \n",
              "3      Ruangguru-PT Ruang Raya Indonesia   \n",
              "4                PT Ruang Raya Indonesia   \n",
              "\n",
              "                                             address          course_skill  \\\n",
              "0   Pandana Merdeka Q9 RT03 RW03, Ngaliyan, Semarang           Mata Kuliah   \n",
              "1  Jalan Attahiriyah II Kompleks Warga Indah Nomo...          data science   \n",
              "2  8A, RT.12/RW.1, Pejaten Tim., Kec. Ps. Minggu,...        data analytics   \n",
              "3  Jl. Dr. Saharjo No.161, Manggarai Selatan, Teb...  Frontend Engineering   \n",
              "4  Jl. Dr. Saharjo No.161, Manggarai Selatan, Teb...   Backend Engineering   \n",
              "\n",
              "            program                                        description  \\\n",
              "0            Kuliah  Programming Algorithm Programming Language Dig...   \n",
              "1  Studi Independen  Pengenalan Data Science Proses Discovery Data ...   \n",
              "2  Studi Independen  gathering & wrangling data mining & visualizin...   \n",
              "3  Studi Independen  webdevelopment frontend backend ReactJS REST A...   \n",
              "4  Studi Independen  Final Project Software Engineering: Implementi...   \n",
              "\n",
              "                                          desc_clean  \n",
              "0  programming algorithm programming language dig...  \n",
              "1  pengenalan data science proses discovery data ...  \n",
              "2  gathering wrangling data mining visualizing da...  \n",
              "3  webdevelopment frontend backend reactjs rest a...  \n",
              "4  final project software engineering implementin...  "
            ],
            "text/html": [
              "\n",
              "  <div id=\"df-8958c466-3915-46f1-ad89-2f7a94728b11\">\n",
              "    <div class=\"colab-df-container\">\n",
              "      <div>\n",
              "<style scoped>\n",
              "    .dataframe tbody tr th:only-of-type {\n",
              "        vertical-align: middle;\n",
              "    }\n",
              "\n",
              "    .dataframe tbody tr th {\n",
              "        vertical-align: top;\n",
              "    }\n",
              "\n",
              "    .dataframe thead th {\n",
              "        text-align: right;\n",
              "    }\n",
              "</style>\n",
              "<table border=\"1\" class=\"dataframe\">\n",
              "  <thead>\n",
              "    <tr style=\"text-align: right;\">\n",
              "      <th></th>\n",
              "      <th>mitra_name</th>\n",
              "      <th>address</th>\n",
              "      <th>course_skill</th>\n",
              "      <th>program</th>\n",
              "      <th>description</th>\n",
              "      <th>desc_clean</th>\n",
              "    </tr>\n",
              "  </thead>\n",
              "  <tbody>\n",
              "    <tr>\n",
              "      <th>0</th>\n",
              "      <td>Farid Asroful Anam</td>\n",
              "      <td>Pandana Merdeka Q9 RT03 RW03, Ngaliyan, Semarang</td>\n",
              "      <td>Mata Kuliah</td>\n",
              "      <td>Kuliah</td>\n",
              "      <td>Programming Algorithm Programming Language Dig...</td>\n",
              "      <td>programming algorithm programming language dig...</td>\n",
              "    </tr>\n",
              "    <tr>\n",
              "      <th>1</th>\n",
              "      <td>StartupCampus-Achmad Zaky Foundation</td>\n",
              "      <td>Jalan Attahiriyah II Kompleks Warga Indah Nomo...</td>\n",
              "      <td>data science</td>\n",
              "      <td>Studi Independen</td>\n",
              "      <td>Pengenalan Data Science Proses Discovery Data ...</td>\n",
              "      <td>pengenalan data science proses discovery data ...</td>\n",
              "    </tr>\n",
              "    <tr>\n",
              "      <th>2</th>\n",
              "      <td>GreatEdu</td>\n",
              "      <td>8A, RT.12/RW.1, Pejaten Tim., Kec. Ps. Minggu,...</td>\n",
              "      <td>data analytics</td>\n",
              "      <td>Studi Independen</td>\n",
              "      <td>gathering &amp; wrangling data mining &amp; visualizin...</td>\n",
              "      <td>gathering wrangling data mining visualizing da...</td>\n",
              "    </tr>\n",
              "    <tr>\n",
              "      <th>3</th>\n",
              "      <td>Ruangguru-PT Ruang Raya Indonesia</td>\n",
              "      <td>Jl. Dr. Saharjo No.161, Manggarai Selatan, Teb...</td>\n",
              "      <td>Frontend Engineering</td>\n",
              "      <td>Studi Independen</td>\n",
              "      <td>webdevelopment frontend backend ReactJS REST A...</td>\n",
              "      <td>webdevelopment frontend backend reactjs rest a...</td>\n",
              "    </tr>\n",
              "    <tr>\n",
              "      <th>4</th>\n",
              "      <td>PT Ruang Raya Indonesia</td>\n",
              "      <td>Jl. Dr. Saharjo No.161, Manggarai Selatan, Teb...</td>\n",
              "      <td>Backend Engineering</td>\n",
              "      <td>Studi Independen</td>\n",
              "      <td>Final Project Software Engineering: Implementi...</td>\n",
              "      <td>final project software engineering implementin...</td>\n",
              "    </tr>\n",
              "  </tbody>\n",
              "</table>\n",
              "</div>\n",
              "      <button class=\"colab-df-convert\" onclick=\"convertToInteractive('df-8958c466-3915-46f1-ad89-2f7a94728b11')\"\n",
              "              title=\"Convert this dataframe to an interactive table.\"\n",
              "              style=\"display:none;\">\n",
              "        \n",
              "  <svg xmlns=\"http://www.w3.org/2000/svg\" height=\"24px\"viewBox=\"0 0 24 24\"\n",
              "       width=\"24px\">\n",
              "    <path d=\"M0 0h24v24H0V0z\" fill=\"none\"/>\n",
              "    <path d=\"M18.56 5.44l.94 2.06.94-2.06 2.06-.94-2.06-.94-.94-2.06-.94 2.06-2.06.94zm-11 1L8.5 8.5l.94-2.06 2.06-.94-2.06-.94L8.5 2.5l-.94 2.06-2.06.94zm10 10l.94 2.06.94-2.06 2.06-.94-2.06-.94-.94-2.06-.94 2.06-2.06.94z\"/><path d=\"M17.41 7.96l-1.37-1.37c-.4-.4-.92-.59-1.43-.59-.52 0-1.04.2-1.43.59L10.3 9.45l-7.72 7.72c-.78.78-.78 2.05 0 2.83L4 21.41c.39.39.9.59 1.41.59.51 0 1.02-.2 1.41-.59l7.78-7.78 2.81-2.81c.8-.78.8-2.07 0-2.86zM5.41 20L4 18.59l7.72-7.72 1.47 1.35L5.41 20z\"/>\n",
              "  </svg>\n",
              "      </button>\n",
              "      \n",
              "  <style>\n",
              "    .colab-df-container {\n",
              "      display:flex;\n",
              "      flex-wrap:wrap;\n",
              "      gap: 12px;\n",
              "    }\n",
              "\n",
              "    .colab-df-convert {\n",
              "      background-color: #E8F0FE;\n",
              "      border: none;\n",
              "      border-radius: 50%;\n",
              "      cursor: pointer;\n",
              "      display: none;\n",
              "      fill: #1967D2;\n",
              "      height: 32px;\n",
              "      padding: 0 0 0 0;\n",
              "      width: 32px;\n",
              "    }\n",
              "\n",
              "    .colab-df-convert:hover {\n",
              "      background-color: #E2EBFA;\n",
              "      box-shadow: 0px 1px 2px rgba(60, 64, 67, 0.3), 0px 1px 3px 1px rgba(60, 64, 67, 0.15);\n",
              "      fill: #174EA6;\n",
              "    }\n",
              "\n",
              "    [theme=dark] .colab-df-convert {\n",
              "      background-color: #3B4455;\n",
              "      fill: #D2E3FC;\n",
              "    }\n",
              "\n",
              "    [theme=dark] .colab-df-convert:hover {\n",
              "      background-color: #434B5C;\n",
              "      box-shadow: 0px 1px 3px 1px rgba(0, 0, 0, 0.15);\n",
              "      filter: drop-shadow(0px 1px 2px rgba(0, 0, 0, 0.3));\n",
              "      fill: #FFFFFF;\n",
              "    }\n",
              "  </style>\n",
              "\n",
              "      <script>\n",
              "        const buttonEl =\n",
              "          document.querySelector('#df-8958c466-3915-46f1-ad89-2f7a94728b11 button.colab-df-convert');\n",
              "        buttonEl.style.display =\n",
              "          google.colab.kernel.accessAllowed ? 'block' : 'none';\n",
              "\n",
              "        async function convertToInteractive(key) {\n",
              "          const element = document.querySelector('#df-8958c466-3915-46f1-ad89-2f7a94728b11');\n",
              "          const dataTable =\n",
              "            await google.colab.kernel.invokeFunction('convertToInteractive',\n",
              "                                                     [key], {});\n",
              "          if (!dataTable) return;\n",
              "\n",
              "          const docLinkHtml = 'Like what you see? Visit the ' +\n",
              "            '<a target=\"_blank\" href=https://colab.research.google.com/notebooks/data_table.ipynb>data table notebook</a>'\n",
              "            + ' to learn more about interactive tables.';\n",
              "          element.innerHTML = '';\n",
              "          dataTable['output_type'] = 'display_data';\n",
              "          await google.colab.output.renderOutput(dataTable, element);\n",
              "          const docLink = document.createElement('div');\n",
              "          docLink.innerHTML = docLinkHtml;\n",
              "          element.appendChild(docLink);\n",
              "        }\n",
              "      </script>\n",
              "    </div>\n",
              "  </div>\n",
              "  "
            ]
          },
          "metadata": {},
          "execution_count": 20
        }
      ]
    },
    {
      "cell_type": "markdown",
      "source": [
        "\n",
        "\n",
        "---\n",
        "\n"
      ],
      "metadata": {
        "id": "NWButbkZdK0R"
      }
    },
    {
      "cell_type": "markdown",
      "source": [
        "\n",
        "# 5.   Deskripsi Modul & Kompetensi (Setelah Preprocessing)"
      ],
      "metadata": {
        "id": "mRfcPqB1S5ug"
      }
    },
    {
      "cell_type": "code",
      "source": [
        "#Deskripsi Setelah di Prosessing\n",
        "def print_description_clean(index):\n",
        "    example = df[df.index == index][['description', 'mitra_name', 'address', 'program', 'course_skill']].values[0]\n",
        "    if len(example) > 0:\n",
        "        print(example[0], '\\n')\n",
        "        print('Nama Perusahaan\\t\\t:', example[1])\n",
        "        print('Alamat Perusahaan\\t:', example[2])\n",
        "        print('Program Kampus Merdeka\\t:', example[3])\n",
        "        print('Kursus/Program Magang\\t:', example[4])\n",
        "        print()"
      ],
      "metadata": {
        "id": "vdw3_YQAS_mG"
      },
      "execution_count": 22,
      "outputs": []
    },
    {
      "cell_type": "code",
      "source": [
        "print_description_clean(1)"
      ],
      "metadata": {
        "colab": {
          "base_uri": "https://localhost:8080/"
        },
        "id": "vt0TGFr9T0FZ",
        "outputId": "cabeaa8b-7c6f-4644-f736-54be0f665271"
      },
      "execution_count": 24,
      "outputs": [
        {
          "output_type": "stream",
          "name": "stdout",
          "text": [
            "Pengenalan Data Science Proses Discovery Data Pengimporan dasar data dengan Python Data Science (SQL)Visualisasi Data Machine Learning Classification Unsupervised Learning supervised Learning Hyperparameter Tuning Gradient Boosting statistics Clustering scikit-learn tensorflow \n",
            "\n",
            "Nama Perusahaan\t\t: StartupCampus-Achmad Zaky Foundation \n",
            "Alamat Perusahaan\t: Jalan Attahiriyah II Kompleks Warga Indah Nomor 9c, Pejaten Barat, Jakarta Selatan, 12510\n",
            "Program Kampus Merdeka\t: Studi Independen\n",
            "Kursus/Program Magang\t: data science\n",
            "\n"
          ]
        }
      ]
    },
    {
      "cell_type": "code",
      "source": [
        "print_description_clean(15)"
      ],
      "metadata": {
        "colab": {
          "base_uri": "https://localhost:8080/"
        },
        "id": "z1CRV1qaT1Mv",
        "outputId": "5201c956-9323-4b0a-f5e3-06292920b8a4"
      },
      "execution_count": 25,
      "outputs": [
        {
          "output_type": "stream",
          "name": "stdout",
          "text": [
            "Risk Management Valuation & Business Performance  Business Process Management Business/ Industry Understanding Business Strategy & Plan Value - Harmonis\t Job Performance Value - Kompeten\t Value - Amanah\t Value - Adaptif\t Value - Loyal\t Value - Kolaboratif \n",
            "\n",
            "Nama Perusahaan\t\t: PT Telkom Indonesia (Persero) Tbk\n",
            "Alamat Perusahaan\t: Jl Japati 1, Bandung\n",
            "Program Kampus Merdeka\t: magang\n",
            "Kursus/Program Magang\t: Business Analyst\n",
            "\n"
          ]
        }
      ]
    },
    {
      "cell_type": "code",
      "source": [
        "print_description_clean(20)"
      ],
      "metadata": {
        "colab": {
          "base_uri": "https://localhost:8080/"
        },
        "id": "6ZsB2NnhUNe5",
        "outputId": "aae5f38a-d339-48d8-b7ac-4f7c70aa27dd"
      },
      "execution_count": 27,
      "outputs": [
        {
          "output_type": "stream",
          "name": "stdout",
          "text": [
            "Able to analyze various analytics on various social media channels to get evaluations and insights Know the platforms/technological devices for digital marketing and understand how to use them Able to identify markets, know the target market, and conduct market research Able to use digital marketing platforms such as Facebook Ads and use them optimally.Understand and be able to operate various features or keyword search tools for content writing \n",
            "\n",
            "Nama Perusahaan\t\t: PT Linimuda Inspirasi Negeri\n",
            "Alamat Perusahaan\t: Griya Dros, Jl KH Abdullah Syafei No 1 (Tebet Utara Dalam 34), Kel. Tebet Timur, Kec. Tebet, Kota Adm. Jakarta Selatan, Prov. DKI Jakarta\n",
            "Program Kampus Merdeka\t: magang\n",
            "Kursus/Program Magang\t: Digital Marketing Internship Program\n",
            "\n"
          ]
        }
      ]
    },
    {
      "cell_type": "markdown",
      "source": [
        "\n",
        "\n",
        "---\n",
        "\n"
      ],
      "metadata": {
        "id": "jmkt2gS6dMA3"
      }
    },
    {
      "cell_type": "markdown",
      "source": [
        "# 6. TF-IDF & Cosine Similarity"
      ],
      "metadata": {
        "id": "O1En6GPGU_mn"
      }
    },
    {
      "cell_type": "code",
      "source": [
        "df.set_index('mitra_name', inplace=True)\n",
        "tf = TfidfVectorizer(analyzer='word', ngram_range=(1, 3), min_df=0, stop_words='english')\n",
        "tfidf_matrix = tf.fit_transform(df['desc_clean'])\n",
        "cos_sim = cosine_similarity(tfidf_matrix, tfidf_matrix)\n",
        "cos_sim"
      ],
      "metadata": {
        "colab": {
          "base_uri": "https://localhost:8080/"
        },
        "id": "Gz6usmF6UOXM",
        "outputId": "bc1cef20-b1c1-4f81-b777-25d0a9874905"
      },
      "execution_count": 28,
      "outputs": [
        {
          "output_type": "execute_result",
          "data": {
            "text/plain": [
              "array([[1.        , 0.02270463, 0.02986094, 0.        , 0.06705158,\n",
              "        0.12658398, 0.00910503, 0.        , 0.        , 0.02368396,\n",
              "        0.02036001, 0.02329119, 0.07075854, 0.        , 0.        ,\n",
              "        0.00622644, 0.02758526, 0.01127627, 0.        , 0.01991976,\n",
              "        0.00560276],\n",
              "       [0.02270463, 1.        , 0.07106286, 0.        , 0.01787313,\n",
              "        0.        , 0.        , 0.        , 0.11402977, 0.        ,\n",
              "        0.09520303, 0.        , 0.        , 0.        , 0.        ,\n",
              "        0.        , 0.05238093, 0.        , 0.        , 0.13582668,\n",
              "        0.        ],\n",
              "       [0.02986094, 0.07106286, 1.        , 0.        , 0.02254359,\n",
              "        0.01647937, 0.        , 0.00305302, 0.        , 0.00521928,\n",
              "        0.07346048, 0.        , 0.00500598, 0.00354754, 0.        ,\n",
              "        0.        , 0.04041813, 0.        , 0.        , 0.12268965,\n",
              "        0.00254897],\n",
              "       [0.        , 0.        , 0.        , 1.        , 0.02159708,\n",
              "        0.02577913, 0.        , 0.        , 0.        , 0.        ,\n",
              "        0.        , 0.        , 0.        , 0.        , 0.        ,\n",
              "        0.        , 0.        , 0.        , 0.        , 0.        ,\n",
              "        0.        ],\n",
              "       [0.06705158, 0.01787313, 0.02254359, 0.02159708, 1.        ,\n",
              "        0.06492888, 0.029402  , 0.08797318, 0.0234749 , 0.06345402,\n",
              "        0.15616623, 0.04207141, 0.05870839, 0.02759969, 0.01143128,\n",
              "        0.01376591, 0.03851234, 0.02069794, 0.01031   , 0.01431886,\n",
              "        0.04584078],\n",
              "       [0.12658398, 0.        , 0.01647937, 0.02577913, 0.06492888,\n",
              "        1.        , 0.        , 0.        , 0.        , 0.02511319,\n",
              "        0.00666375, 0.        , 0.06238042, 0.03938551, 0.        ,\n",
              "        0.        , 0.        , 0.        , 0.        , 0.        ,\n",
              "        0.        ],\n",
              "       [0.00910503, 0.        , 0.        , 0.        , 0.029402  ,\n",
              "        0.        , 1.        , 0.03579755, 0.00502553, 0.00430766,\n",
              "        0.01118901, 0.04242332, 0.00773248, 0.        , 0.        ,\n",
              "        0.00452423, 0.01592464, 0.0220434 , 0.        , 0.        ,\n",
              "        0.00701302],\n",
              "       [0.        , 0.        , 0.00305302, 0.        , 0.08797318,\n",
              "        0.        , 0.03579755, 1.        , 0.        , 0.02739372,\n",
              "        0.02443815, 0.        , 0.02745716, 0.00611954, 0.        ,\n",
              "        0.        , 0.        , 0.        , 0.        , 0.        ,\n",
              "        0.02264787],\n",
              "       [0.        , 0.11402977, 0.        , 0.        , 0.0234749 ,\n",
              "        0.        , 0.00502553, 0.        , 1.        , 0.        ,\n",
              "        0.02595285, 0.        , 0.01414935, 0.        , 0.        ,\n",
              "        0.        , 0.        , 0.        , 0.        , 0.        ,\n",
              "        0.        ],\n",
              "       [0.02368396, 0.        , 0.00521928, 0.        , 0.06345402,\n",
              "        0.02511319, 0.00430766, 0.02739372, 0.        , 1.        ,\n",
              "        0.0215893 , 0.00548162, 0.0076287 , 0.        , 0.        ,\n",
              "        0.        , 0.        , 0.        , 0.        , 0.        ,\n",
              "        0.08056106],\n",
              "       [0.02036001, 0.09520303, 0.07346048, 0.        , 0.15616623,\n",
              "        0.00666375, 0.01118901, 0.02443815, 0.02595285, 0.0215893 ,\n",
              "        1.        , 0.02926248, 0.01948366, 0.01286263, 0.        ,\n",
              "        0.04793052, 0.10482255, 0.04818428, 0.0113983 , 0.13364881,\n",
              "        0.07029497],\n",
              "       [0.02329119, 0.        , 0.        , 0.        , 0.04207141,\n",
              "        0.        , 0.04242332, 0.        , 0.        , 0.00548162,\n",
              "        0.02926248, 1.        , 0.00983981, 0.        , 0.02125223,\n",
              "        0.02559261, 0.05662057, 0.03506359, 0.01916763, 0.        ,\n",
              "        0.02205878],\n",
              "       [0.07075854, 0.        , 0.00500598, 0.        , 0.05870839,\n",
              "        0.06238042, 0.00773248, 0.02745716, 0.01414935, 0.0076287 ,\n",
              "        0.01948366, 0.00983981, 1.        , 0.        , 0.        ,\n",
              "        0.01841028, 0.01500103, 0.        , 0.        , 0.        ,\n",
              "        0.        ],\n",
              "       [0.        , 0.        , 0.00354754, 0.        , 0.02759969,\n",
              "        0.03938551, 0.        , 0.00611954, 0.        , 0.        ,\n",
              "        0.01286263, 0.        , 0.        , 1.        , 0.        ,\n",
              "        0.        , 0.        , 0.        , 0.        , 0.        ,\n",
              "        0.        ],\n",
              "       [0.        , 0.        , 0.        , 0.        , 0.01143128,\n",
              "        0.        , 0.        , 0.        , 0.        , 0.        ,\n",
              "        0.        , 0.02125223, 0.        , 0.        , 1.        ,\n",
              "        0.        , 0.        , 0.        , 0.        , 0.        ,\n",
              "        0.        ],\n",
              "       [0.00622644, 0.        , 0.        , 0.        , 0.01376591,\n",
              "        0.        , 0.00452423, 0.        , 0.        , 0.        ,\n",
              "        0.04793052, 0.02559261, 0.01841028, 0.        , 0.        ,\n",
              "        1.        , 0.        , 0.05448561, 0.        , 0.        ,\n",
              "        0.        ],\n",
              "       [0.02758526, 0.05238093, 0.04041813, 0.        , 0.03851234,\n",
              "        0.        , 0.01592464, 0.        , 0.        , 0.        ,\n",
              "        0.10482255, 0.05662057, 0.01500103, 0.        , 0.        ,\n",
              "        0.        , 1.        , 0.01835568, 0.01254274, 0.06967905,\n",
              "        0.00570743],\n",
              "       [0.01127627, 0.        , 0.        , 0.        , 0.02069794,\n",
              "        0.        , 0.0220434 , 0.        , 0.        , 0.        ,\n",
              "        0.04818428, 0.03506359, 0.        , 0.        , 0.        ,\n",
              "        0.05448561, 0.01835568, 1.        , 0.03472415, 0.        ,\n",
              "        0.05265937],\n",
              "       [0.        , 0.        , 0.        , 0.        , 0.01031   ,\n",
              "        0.        , 0.        , 0.        , 0.        , 0.        ,\n",
              "        0.0113983 , 0.01916763, 0.        , 0.        , 0.        ,\n",
              "        0.        , 0.01254274, 0.03472415, 1.        , 0.        ,\n",
              "        0.0161352 ],\n",
              "       [0.01991976, 0.13582668, 0.12268965, 0.        , 0.01431886,\n",
              "        0.        , 0.        , 0.        , 0.        , 0.        ,\n",
              "        0.13364881, 0.        , 0.        , 0.        , 0.        ,\n",
              "        0.        , 0.06967905, 0.        , 0.        , 1.        ,\n",
              "        0.        ],\n",
              "       [0.00560276, 0.        , 0.00254897, 0.        , 0.04584078,\n",
              "        0.        , 0.00701302, 0.02264787, 0.        , 0.08056106,\n",
              "        0.07029497, 0.02205878, 0.        , 0.        , 0.        ,\n",
              "        0.        , 0.00570743, 0.05265937, 0.0161352 , 0.        ,\n",
              "        1.        ]])"
            ]
          },
          "metadata": {},
          "execution_count": 28
        }
      ]
    },
    {
      "cell_type": "code",
      "source": [
        "# Berikan index utama di kolom 'name'\n",
        "indices = pd.Series(df.index)\n",
        "indices[:21]"
      ],
      "metadata": {
        "colab": {
          "base_uri": "https://localhost:8080/"
        },
        "id": "WNntjYP3VMS9",
        "outputId": "6605f0a1-5ed4-413c-897d-13b36c4622d4"
      },
      "execution_count": 32,
      "outputs": [
        {
          "output_type": "execute_result",
          "data": {
            "text/plain": [
              "0                        Farid Asroful Anam\n",
              "1     StartupCampus-Achmad Zaky Foundation \n",
              "2                                  GreatEdu\n",
              "3         Ruangguru-PT Ruang Raya Indonesia\n",
              "4                   PT Ruang Raya Indonesia\n",
              "5            PT Mitra Integrasi Informatika\n",
              "6         PT Hacktivate Teknologi Indonesia\n",
              "7         PT Hacktivate Teknologi Indonesia\n",
              "8              PT BISA ARTIFISIAL INDONESIA\n",
              "9         PT Hacktivate Teknologi Indonesia\n",
              "10                  PT Ruang Raya Indonesia\n",
              "11             PT Baracipta Esa Engineering\n",
              "12                 PT Home Credit Indonesia\n",
              "13                     PT Mafela Ranca Wana\n",
              "14                   PT Indonesia Indicator\n",
              "15        PT Telkom Indonesia (Persero) Tbk\n",
              "16               PT Bhinneka Mentaridimensi\n",
              "17              PT Pilihanmu Indonesia Jaya\n",
              "18            PT Hashmicro Solusi Indonesia\n",
              "19                PT TELEKOMUNIKASI SELULAR\n",
              "20             PT Linimuda Inspirasi Negeri\n",
              "Name: mitra_name, dtype: object"
            ]
          },
          "metadata": {},
          "execution_count": 32
        }
      ]
    },
    {
      "cell_type": "markdown",
      "source": [
        "\n",
        "\n",
        "---\n",
        "\n"
      ],
      "metadata": {
        "id": "wOFOhc2ZdNi2"
      }
    },
    {
      "cell_type": "markdown",
      "source": [
        "# 7. Modelling"
      ],
      "metadata": {
        "id": "elF0BQSeVmdT"
      }
    },
    {
      "cell_type": "code",
      "source": [
        "def recommendations(name, cos_sim = cos_sim):\n",
        "    \n",
        "    recommended_mbkm = {'mitra_name': [],\n",
        "                       'address': [],\n",
        "                       'program': [],\n",
        "                       'course_skill': []}\n",
        "    \n",
        "    # Mengambil nama Mitra Perusahaan berdasarkan variabel indicies\n",
        "    idx = indices[indices == name].index[0]\n",
        "\n",
        "    # Membuat series berdasarkan skor kesamaan\n",
        "    score_series = pd.Series(cos_sim[idx]).sort_values(ascending = False)\n",
        "\n",
        "    # mengambil index dan dibuat 10 baris rekomendasi terbaik\n",
        "    top_10_indexes = list(score_series.iloc[1:11].index)\n",
        "  \n",
        "    \n",
        "    print(\"\\n\\t\\t\\t\\t\\t\\t\\tREKOMENDASI PERUSAHAAN MITRA KAMPUS MERDEKA\\n\")\n",
        "    print(\"=\"*150)\n",
        "    \n",
        "    for i in top_10_indexes:\n",
        "      \n",
        "      if list(df['program'])[i] == \"Studi Independen\":\n",
        "        pilihan_bidang_kursus = \"Kursus\"\n",
        "      else:\n",
        "        pilihan_bidang_kursus = \"Bidang\"\n",
        "      \n",
        "      print()\n",
        "      print('Nama Perusahaan\\t\\t:', list(df.index)[i])\n",
        "      print('Program Kampus Merdeka\\t:', list(df['program'])[i].upper())\n",
        "      print(f'{pilihan_bidang_kursus}\\t\\t\\t:', list(df['course_skill'])[i])\n",
        "      print('Alamat\\t\\t\\t:', list(df['address'])[i])\n",
        "      print()\n",
        "      print(\"*\"*150)"
      ],
      "metadata": {
        "id": "e1wH1B_-Vll7"
      },
      "execution_count": 67,
      "outputs": []
    },
    {
      "cell_type": "markdown",
      "source": [
        "\n",
        "\n",
        "---\n",
        "\n"
      ],
      "metadata": {
        "id": "Y88dRluJdOgL"
      }
    },
    {
      "cell_type": "markdown",
      "source": [
        "# 8. Prediksi"
      ],
      "metadata": {
        "id": "GQVAR_buamRQ"
      }
    },
    {
      "cell_type": "code",
      "source": [
        "recommendations('Farid Asroful Anam')"
      ],
      "metadata": {
        "colab": {
          "base_uri": "https://localhost:8080/"
        },
        "id": "uHXszcgtak2H",
        "outputId": "b5277fc3-b481-4851-b584-8f6ee8d2083f"
      },
      "execution_count": 68,
      "outputs": [
        {
          "output_type": "stream",
          "name": "stdout",
          "text": [
            "\n",
            "\t\t\t\t\t\t\tREKOMENDASI PERUSAHAAN MITRA KAMPUS MERDEKA\n",
            "\n",
            "======================================================================================================================================================\n",
            "\n",
            "Nama Perusahaan\t\t: PT Mitra Integrasi Informatika\n",
            "Program Kampus Merdeka\t: STUDI INDEPENDEN\n",
            "Kursus\t\t\t: Full Stack Developer\n",
            "Alamat\t\t\t: APL Tower Lantai 37, Jl. Letjen S. Parman Kav. 28, RT.12/RW.6, Tj. Duren Sel., Jakarta Barat, Kota Jakarta Barat, Daerah Khusus Ibukota Jakarta 11470\n",
            "\n",
            "******************************************************************************************************************************************************\n",
            "\n",
            "Nama Perusahaan\t\t: PT Home Credit Indonesia\n",
            "Program Kampus Merdeka\t: MAGANG\n",
            "Bidang\t\t\t: Android Developer\n",
            "Alamat\t\t\t: Plaza Oleos Lantai 8 Jl. TB Simatupang No. 53A, Jakarta Selatan 12520 \n",
            "\n",
            "******************************************************************************************************************************************************\n",
            "\n",
            "Nama Perusahaan\t\t: PT Ruang Raya Indonesia\n",
            "Program Kampus Merdeka\t: STUDI INDEPENDEN\n",
            "Kursus\t\t\t: Backend Engineering\n",
            "Alamat\t\t\t: Jl. Dr. Saharjo No.161, Manggarai Selatan, Tebet, Kota Jakarta Selatan, Daerah Khusus Ibukota Jakarta 12860\n",
            "\n",
            "******************************************************************************************************************************************************\n",
            "\n",
            "Nama Perusahaan\t\t: GreatEdu\n",
            "Program Kampus Merdeka\t: STUDI INDEPENDEN\n",
            "Kursus\t\t\t: data analytics\n",
            "Alamat\t\t\t: 8A, RT.12/RW.1, Pejaten Tim., Kec. Ps. Minggu, Kota Jakarta Selatan, Daerah Khusus Ibukota Jakarta 12510\n",
            "\n",
            "******************************************************************************************************************************************************\n",
            "\n",
            "Nama Perusahaan\t\t: PT Bhinneka Mentaridimensi\n",
            "Program Kampus Merdeka\t: MAGANG\n",
            "Bidang\t\t\t: Business Intelligence Intern\n",
            "Alamat\t\t\t: Jl. Gn. Sahari No.73C, RT.9/RW.7, Gn. Sahari Sel., Kec. Kemayoran, Kota Jakarta Pusat, Daerah Khusus Ibukota Jakarta 10610\n",
            "\n",
            "******************************************************************************************************************************************************\n",
            "\n",
            "Nama Perusahaan\t\t: PT Hacktivate Teknologi Indonesia\n",
            "Program Kampus Merdeka\t: STUDI INDEPENDEN\n",
            "Kursus\t\t\t: Golang for BackEnd Programmer\n",
            "Alamat\t\t\t: Gedung Aquarius Lt. 1&2, Jl. Sultan Iskandar Muda No. 7,  RT. 005 RW. 009, Kebayoran Lama Selatan, Kebayoran Lama, Jakarta Selatan 12240\n",
            "\n",
            "******************************************************************************************************************************************************\n",
            "\n",
            "Nama Perusahaan\t\t: PT Baracipta Esa Engineering\n",
            "Program Kampus Merdeka\t: MAGANG\n",
            "Bidang\t\t\t: 3D Artist\n",
            "Alamat\t\t\t: Jl. Mijil No. 98 Karangjati, Ngemplak, Kel. Sinduadi, Kec. Mlati, Sleman, Prov. Daerah istimewa Yogyakarta 55284\n",
            "\n",
            "******************************************************************************************************************************************************\n",
            "\n",
            "Nama Perusahaan\t\t: StartupCampus-Achmad Zaky Foundation \n",
            "Program Kampus Merdeka\t: STUDI INDEPENDEN\n",
            "Kursus\t\t\t: data science\n",
            "Alamat\t\t\t: Jalan Attahiriyah II Kompleks Warga Indah Nomor 9c, Pejaten Barat, Jakarta Selatan, 12510\n",
            "\n",
            "******************************************************************************************************************************************************\n",
            "\n",
            "Nama Perusahaan\t\t: PT Ruang Raya Indonesia\n",
            "Program Kampus Merdeka\t: STUDI INDEPENDEN\n",
            "Kursus\t\t\t: Data Business & Analytics\n",
            "Alamat\t\t\t: Jl. Dr. Saharjo No.161, Manggarai Selatan, Tebet, Kota Jakarta Selatan, Daerah Khusus Ibukota Jakarta 12860\n",
            "\n",
            "******************************************************************************************************************************************************\n",
            "\n",
            "Nama Perusahaan\t\t: PT TELEKOMUNIKASI SELULAR\n",
            "Program Kampus Merdeka\t: MAGANG\n",
            "Bidang\t\t\t: Data Analytics Intern\n",
            "Alamat\t\t\t: The Telkom Hub, Jl. Gatot Subroto No.Kav. 52, RT.6/RW.1, Kuningan Bar., Kec. Mampang Prpt., Kota Jakarta Selatan, Daerah Khusus Ibukota Jakarta 12710\n",
            "\n",
            "******************************************************************************************************************************************************\n"
          ]
        }
      ]
    }
  ]
}